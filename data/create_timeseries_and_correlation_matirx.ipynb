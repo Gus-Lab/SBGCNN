{
 "cells": [
  {
   "cell_type": "code",
   "execution_count": 38,
   "metadata": {},
   "outputs": [],
   "source": [
    "from nilearn import datasets\n",
    "from os import listdir\n",
    "from os.path import isfile, isdir, join, basename\n",
    "import math\n",
    "import codecs, json\n",
    "import numpy as np\n",
    "\n",
    "from tqdm import tqdm, tqdm_gui, tqdm_notebook\n",
    "\n",
    "from nilearn.input_data import NiftiLabelsMasker\n",
    "from nilearn.connectome import ConnectivityMeasure\n",
    "\n",
    "\n",
    "class NumpyEncoder(json.JSONEncoder):\n",
    "    def default(self, obj):\n",
    "        if isinstance(obj, np.ndarray):\n",
    "            return obj.tolist()\n",
    "        return json.JSONEncoder.default(self, obj)\n",
    "    \n",
    "    \n",
    "# dataset = datasets.fetch_atlas_aal()\n",
    "# atlas_filename = dataset.maps\n",
    "atlas_list = [f for f in listdir('/data_59/huze/Atlases') if f.endswith('.nii.gz')]\n",
    "atlas_filename = join('/data_59/huze/Atlases', atlas_list[0])\n",
    "# labels = dataset.labels\n",
    "\n",
    "correlation_measure = ConnectivityMeasure(kind='correlation')"
   ]
  },
  {
   "cell_type": "code",
   "execution_count": 39,
   "metadata": {},
   "outputs": [],
   "source": [
    "atlas_list.remove('QSDR.scale60.thick2.MNI152.nii.gz')"
   ]
  },
  {
   "cell_type": "code",
   "execution_count": 40,
   "metadata": {},
   "outputs": [
    {
     "data": {
      "text/plain": [
       "['QSDR.scale125.thick2.MNI152.nii.gz',\n",
       " 'QSDR.scale250.thick2.MNI152.nii.gz',\n",
       " 'QSDR.scale33.thick2.MNI152.nii.gz',\n",
       " 'QSDR.scale500.thick2.MNI152.nii.gz']"
      ]
     },
     "execution_count": 40,
     "metadata": {},
     "output_type": "execute_result"
    }
   ],
   "source": [
    "atlas_list"
   ]
  },
  {
   "cell_type": "code",
   "execution_count": 25,
   "metadata": {},
   "outputs": [],
   "source": [
    "working_dir = '/data_59/huze/MRS/FEAT.linear'\n",
    "\n",
    "subject_list = [f.strip('.feat') for f in listdir(working_dir) if f.endswith('.feat')]\n",
    "correlation_dict = dict()\n",
    "time_series_dict = dict()"
   ]
  },
  {
   "cell_type": "code",
   "execution_count": 26,
   "metadata": {},
   "outputs": [
    {
     "data": {
      "text/plain": [
       "212"
      ]
     },
     "execution_count": 26,
     "metadata": {},
     "output_type": "execute_result"
    }
   ],
   "source": [
    "len(subject_list)"
   ]
  },
  {
   "cell_type": "code",
   "execution_count": 28,
   "metadata": {},
   "outputs": [],
   "source": [
    "def slice_time_series(time_series):\n",
    "    \"\"\"\n",
    "    2s directions, 30s RESTBLOCK/IPBLOCK\n",
    "    \"\"\"\n",
    "    time_series_slices = []\n",
    "    for i in range(1, 12):\n",
    "        start = math.ceil((32*i-30)/3)\n",
    "        end = math.floor((32*i)/3)\n",
    "        time_series_slices.append(time_series[start:end])\n",
    "        \n",
    "    rest_blocks, ip_blocks = time_series_slices[::2], time_series_slices[1::2]\n",
    "    rest_block = np.concatenate(rest_blocks, axis=0)\n",
    "    ip_block = np.concatenate(ip_blocks, axis=0)\n",
    "    return rest_block, ip_block"
   ]
  },
  {
   "cell_type": "code",
   "execution_count": 29,
   "metadata": {},
   "outputs": [],
   "source": [
    "def preproc(subject, masker, correlation_measure):\n",
    "    fmri_filenames = join(working_dir, subject + '.feat', 'filtered_func_data.nii.gz')\n",
    "    time_series = masker.fit_transform(fmri_filenames)\n",
    "    rest_block, ip_block = slice_time_series(time_series)\n",
    "    rest_corr = correlation_measure.fit_transform([rest_block])[0]\n",
    "    ip_corr = correlation_measure.fit_transform([ip_block])[0]\n",
    "    return rest_corr, ip_corr, time_series"
   ]
  },
  {
   "cell_type": "code",
   "execution_count": null,
   "metadata": {},
   "outputs": [],
   "source": [
    "for atlas in tqdm_notebook(atlas_list):\n",
    "    atlas_file = join('/data_59/huze/Atlases', atlas)\n",
    "    correlation_dict = dict()\n",
    "    atlas_name = atlas.strip('.MNI152.nii.gz')\n",
    "    masker = NiftiLabelsMasker(labels_img=atlas_file, standardize=True,\n",
    "                           memory='nilearn_cache', verbose=5)\n",
    "    for subject in tqdm_notebook(subject_list, leave=False):\n",
    "        rest_corr, ip_corr, _ = preproc(subject, masker, correlation_measure)\n",
    "        correlation_dict.update({subject: {'RESTBLOCK': rest_corr,\n",
    "                                           'IPBLOCK': ip_corr\n",
    "                                          }})\n",
    "    json.dump(correlation_dict, codecs.open('/data_59/huze/MRS/TSCM/correlation_matrix_sliced_{}.json'.format(atlas_name),\n",
    "                                        'w', encoding='utf-8'), separators=(',', ':'),\n",
    "                                        sort_keys=True, indent=4, cls=NumpyEncoder)"
   ]
  },
  {
   "cell_type": "code",
   "execution_count": 42,
   "metadata": {
    "scrolled": true
   },
   "outputs": [
    {
     "data": {
      "text/plain": [
       "dict_keys(['IPBLOCK', 'RESTBLOCK', 'WHOLE'])"
      ]
     },
     "execution_count": 42,
     "metadata": {},
     "output_type": "execute_result"
    }
   ],
   "source": [
    "sliced_corr_dict['3044_1'].keys()"
   ]
  },
  {
   "cell_type": "code",
   "execution_count": 43,
   "metadata": {},
   "outputs": [],
   "source": [
    "scale_list = ['33', '125', '250', '500']\n",
    "# scale_list = ['60']\n",
    "tscm_dir = '/data_59/huze/MRS/TSCM/'"
   ]
  },
  {
   "cell_type": "code",
   "execution_count": null,
   "metadata": {},
   "outputs": [],
   "source": [
    "for scale in tqdm_notebook(scale_list):\n",
    "    sliced_corr_dict = json.load(codecs.open(join(tscm_dir, 'correlation_matrix_sliced_QSDR.scale{0}.thick.json'.format(scale)),\n",
    "                                              'r', encoding='utf-8'))\n",
    "    whole_corr_dict = json.load(codecs.open(join(tscm_dir, 'correlation_matrix_QSDR.scale{0}.thick.json'.format(scale)),\n",
    "                                              'r', encoding='utf-8'))\n",
    "    for subject in tqdm_notebook(subject_list, leave=False):\n",
    "        sliced_corr_dict[subject]['WHOLE'] = whole_corr_dict[subject]\n",
    "        \n",
    "    json.dump(sliced_corr_dict, codecs.open(join(tscm_dir, 'correlation_matrix_sliced_QSDR.scale{0}.thick.json'.format(scale)),\n",
    "                                        'w', encoding='utf-8'), separators=(',', ':'),\n",
    "                                        sort_keys=True, indent=4, cls=NumpyEncoder)"
   ]
  },
  {
   "cell_type": "code",
   "execution_count": null,
   "metadata": {},
   "outputs": [],
   "source": []
  }
 ],
 "metadata": {
  "kernelspec": {
   "display_name": "Python 3",
   "language": "python",
   "name": "python3"
  },
  "language_info": {
   "codemirror_mode": {
    "name": "ipython",
    "version": 3
   },
   "file_extension": ".py",
   "mimetype": "text/x-python",
   "name": "python",
   "nbconvert_exporter": "python",
   "pygments_lexer": "ipython3",
   "version": "3.7.2"
  }
 },
 "nbformat": 4,
 "nbformat_minor": 2
}
