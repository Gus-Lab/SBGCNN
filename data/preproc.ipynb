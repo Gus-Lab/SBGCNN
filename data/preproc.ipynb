{
 "cells": [
  {
   "cell_type": "code",
   "execution_count": 41,
   "metadata": {},
   "outputs": [],
   "source": [
    "import torch\n",
    "from torch_geometric.data import Data\n",
    "import networkx as nx\n",
    "import os.path as osp\n",
    "import codecs, json\n",
    "\n",
    "import matplotlib.pyplot as plt\n",
    "import numpy as np\n",
    "%matplotlib inline\n",
    "\n",
    "import torch\n",
    "from torch.utils.data import Dataset, DataLoader\n",
    "from torch import nn\n",
    "import torch.nn.functional as F\n",
    "import torch_geometric.transforms as T\n",
    "from torch_geometric.nn import GATConv\n",
    "from torch_geometric.data import (InMemoryDataset, Data)\n",
    "from torch.autograd import Variable\n",
    "\n",
    "from tqdm import tqdm, tqdm_gui, tqdm_notebook\n",
    "from livelossplot import PlotLosses\n",
    "\n",
    "import pandas as pd\n",
    "\n",
    "from torch_scatter import scatter_add\n",
    "from torch_geometric.utils import remove_self_loops, softmax\n",
    "\n",
    "from torch_geometric.nn.inits import uniform\n"
   ]
  },
  {
   "cell_type": "code",
   "execution_count": 42,
   "metadata": {},
   "outputs": [],
   "source": [
    "G_path = '/data_59/huze/MRS/G.multi_dim'\n",
    "scale = '60'\n",
    "MRS_path = '/data_59/huze/MRS'"
   ]
  },
  {
   "cell_type": "markdown",
   "metadata": {},
   "source": [
    "### Data Format Conversion\n",
    "convert networkx graph to ues torch_geometric"
   ]
  },
  {
   "cell_type": "code",
   "execution_count": 43,
   "metadata": {},
   "outputs": [],
   "source": [
    "graph_file = osp.join(G_path, 'subj3064_3.scale60.json')\n",
    "G = nx.node_link_graph(json.load(codecs.open(graph_file, 'r', encoding='utf-8')))"
   ]
  },
  {
   "cell_type": "code",
   "execution_count": 44,
   "metadata": {},
   "outputs": [
    {
     "data": {
      "text/plain": [
       "{'NumVert': 1922.0,\n",
       " 'SurfArea': 1289.0,\n",
       " 'GrayVol': 3959.0,\n",
       " 'ThickAvg': 2.673,\n",
       " 'ThickStd': 0.764,\n",
       " 'MeanCurv': 0.133,\n",
       " 'GausCurv': 0.052,\n",
       " 'StructName': 'lateralorbitofrontal_1'}"
      ]
     },
     "execution_count": 44,
     "metadata": {},
     "output_type": "execute_result"
    }
   ],
   "source": [
    "G.nodes[0]"
   ]
  },
  {
   "cell_type": "code",
   "execution_count": 45,
   "metadata": {},
   "outputs": [],
   "source": [
    "def networkx_to_data(G):\n",
    "    \"\"\"\n",
    "    convert a networkx graph to torch geometric data\n",
    "    \"\"\"\n",
    "    # node features\n",
    "    x = list()\n",
    "    for i in G.nodes:\n",
    "        node_feature = [value for key, value in G.nodes[i].items() \\\n",
    "                        if key not in ['StructName', 'FoldInd', 'CurvInd', 'TimeSeries']]\n",
    "        # append timeseries to node features\n",
    "#         for t in G.nodes[i]['TimeSeries']:\n",
    "#             node_feature.append(t)\n",
    "        x.append(node_feature)\n",
    "    \n",
    "    edge_index = list()\n",
    "    for edge in G.edges:\n",
    "        edge_index.append(list(edge))\n",
    "    \n",
    "    edge_attr = list()\n",
    "    for edge in edge_index:\n",
    "        edge_feature = list()\n",
    "        for key in G[edge[0]][edge[1]].keys():\n",
    "            edge_feature.append(G[edge[0]][edge[1]][key])\n",
    "        edge_attr.append(edge_feature)\n",
    "\n",
    "    x = torch.tensor(x, dtype=torch.float)\n",
    "    edge_index = torch.tensor(edge_index, dtype=torch.long)\n",
    "    edge_index = edge_index.t().contiguous()\n",
    "    edge_attr = torch.tensor(edge_attr, dtype=torch.float)\n",
    "    \n",
    "    return Data(x=x, edge_index=edge_index, edge_attr=edge_attr)\n"
   ]
  },
  {
   "cell_type": "code",
   "execution_count": 46,
   "metadata": {},
   "outputs": [],
   "source": [
    "def subj_to_data(data_dir=str, subject_id=str, scale=str):\n",
    "    \"\"\"\n",
    "    given a subject's id and scale, return a Data object to be used in torch_geometric\n",
    "    \"\"\"\n",
    "    graph_file = osp.join(data_dir, 'subj{0}.scale{1}.json'.format(subject_id, scale))\n",
    "    G = nx.node_link_graph(json.load(codecs.open(graph_file, 'r')))\n",
    "\n",
    "    data = networkx_to_data(G)\n",
    "    data.y = torch.tensor(1) if subject_id[0] == '2' else torch.tensor(0)\n",
    "    # label for patient and non-patient\n",
    "    \n",
    "    return data"
   ]
  },
  {
   "cell_type": "code",
   "execution_count": 47,
   "metadata": {},
   "outputs": [],
   "source": [
    "data = subj_to_data(G_path, '3064_3', '60')"
   ]
  },
  {
   "cell_type": "code",
   "execution_count": 48,
   "metadata": {},
   "outputs": [
    {
     "data": {
      "text/plain": [
       "Data(edge_attr=[8385, 3], edge_index=[2, 8385], x=[129, 7], y=[])"
      ]
     },
     "execution_count": 48,
     "metadata": {},
     "output_type": "execute_result"
    }
   ],
   "source": [
    "data"
   ]
  },
  {
   "cell_type": "markdown",
   "metadata": {},
   "source": [
    "# Split all subjects into train and test\n",
    "the same subject won't be in both train and test"
   ]
  },
  {
   "cell_type": "code",
   "execution_count": 111,
   "metadata": {},
   "outputs": [],
   "source": [
    "p = 0.91"
   ]
  },
  {
   "cell_type": "code",
   "execution_count": null,
   "metadata": {},
   "outputs": [],
   "source": []
  },
  {
   "cell_type": "code",
   "execution_count": 112,
   "metadata": {},
   "outputs": [
    {
     "name": "stdout",
     "output_type": "stream",
     "text": [
      "train_subjects: 150\n",
      "['2008_1', '3001_3', '2011_3', '3003_3', '2012_1', '3006_1', '2012_3', '3006_3', '2015_1', '3008_1', '2015_3', '3008_3', '2020_1', '3009_1', '2020_3', '3009_3', '2021_1', '3010_1', '2021_3', '3010_3', '2022_1', '3012_1', '2022_3', '3012_3', '2024_1', '3013_1', '2025_1', '3013_3', '2032_3', '3014_1', '2033_1', '3014_3', '2033_3', '3015_1', '2044_3', '3015_3', '2046_1', '3016_1', '2046_3', '3016_3', '2047_1', '3017_1', '2047_3', '3018_1', '2048_1', '3019_1', '2048_3', '3019_3', '2050_1', '3020_1', '2050_3', '3021_1', '2052_1', '3022_1', '2052_3', '3024_1', '2053_1', '3024_3', '2053_3', '3025_1', '2054_1', '3025_3', '2054_3', '3027_1', '2058_1', '3027_3', '2058_3', '3028_1', '2059_1', '3028_3', '2061_1', '3029_1', '2061_3', '3029_3', '2062_1', '3030_1', '2062_3', '3032_1', '2064_1', '3032_3', '2065_3', '3035_1', '2068_1', '3035_3', '2068_3', '3036_1', '2075_1', '3036_3', '2075_3', '3037_1', '2077_3', '3037_3', '2078_3', '3038_1', '2080_3', '3038_3', '2082_1', '3040_1', '2082_3', '3040_3', '2083_1', '3042_1', '2083_3', '3044_3', '2086_1', '3045_1', '2086_3', '3045_3', '2087_3', '3046_3', '2088_3', '3047_1', '2090_1', '3047_3', '2090_3', '3048_1', '2091_1', '3048_3', '2091_3', '3049_1', '2092_1', '3049_3', '2092_3', '3050_1', '2093_1', '3050_3', '2093_3', '3051_1', '2094_1', '3052_1', '2094_3', '3052_3', '2095_1', '3054_1', '2095_3', '3054_3', '2096_1', '3055_1', '2099_1', '3055_3', '2099_3', '3057_3', '2103_1', '3059_1', '2103_3', '3059_3', '2106_1', '3064_1', '2106_3', '3064_3']\n",
      "val_subjects: 15\n",
      "['2109_3', '3066_1', '2111_1', '3066_3', '2111_3', '2112_1', '2112_3', '2113_1', '2113_3', '2121_1', '2121_3', '2122_1', '2122_3', '2123_1', '2123_3']\n"
     ]
    }
   ],
   "source": [
    "# the same subject won't be in both train and test\n",
    "\n",
    "from random import shuffle\n",
    "from itertools import chain, zip_longest\n",
    "\n",
    "all_subjects = [line.strip() for line in codecs.open(osp.join(MRS_path, 'all_subjects'), 'r').readlines()]\n",
    "all_subjects.sort()\n",
    "\n",
    "patient_subject = [s for s in all_subjects if s.startswith('2')]\n",
    "non_patient_subject = [s for s in all_subjects if s.startswith('3')]\n",
    "all_subjects = list(filter(None, chain(*zip_longest(patient_subject,non_patient_subject))))\n",
    "\n",
    "# train_subjects = patient_subject[:int(len(patient_subject) * p)] + \\\n",
    "#                 non_patient_subject[:int(len(non_patient_subject) * p)]\n",
    "# test_subjects = patient_subject[int(len(patient_subject) * p):] + \\\n",
    "#                 non_patient_subject[int(len(non_patient_subject) * p):]\n",
    "train_subjects = all_subjects[:int(len(all_subjects) * p)]\n",
    "test_subjects = all_subjects[int(len(all_subjects) * p):]\n",
    "# shuffle(train_subjects)\n",
    "# shuffle(val_subjects)\n",
    "\n",
    "print(\"train_subjects: %d\" % len(train_subjects))\n",
    "print(train_subjects)\n",
    "print(\"val_subjects: %d\" % len(test_subjects))\n",
    "print(test_subjects)"
   ]
  },
  {
   "cell_type": "code",
   "execution_count": 113,
   "metadata": {},
   "outputs": [],
   "source": [
    "def save_subject_list(subject_list, file_path):\n",
    "    with open(file_path, 'w') as f:\n",
    "        for x in subject_list:\n",
    "            f.write(x + '\\n')"
   ]
  },
  {
   "cell_type": "code",
   "execution_count": 114,
   "metadata": {},
   "outputs": [],
   "source": [
    "save_subject_list(train_subjects, osp.join(MRS_path, 'train_subjects'))\n",
    "save_subject_list(test_subjects, osp.join(MRS_path, 'test_subjects'))"
   ]
  },
  {
   "cell_type": "markdown",
   "metadata": {},
   "source": [
    "# Calculate mean & std for train/validation set\n",
    "different mean/std for train/test normalization"
   ]
  },
  {
   "cell_type": "code",
   "execution_count": 115,
   "metadata": {},
   "outputs": [],
   "source": [
    "def mean_and_std_for_subjects(subject_list, scale):\n",
    "    datas = [subj_to_data(G_path, s, scale) for s in subject_list]\n",
    "    # a sample data to get num_features\n",
    "    data = datas[0]\n",
    "    num_features = data.num_features\n",
    "    \n",
    "    datas = [data.x for data in datas]\n",
    "    datas = torch.stack(datas)\n",
    "    \n",
    "    mean, std = [], []\n",
    "    for i in range(0, num_features):\n",
    "        features = datas[:, :, i].view(-1)\n",
    "        mean.append(features.mean().item())\n",
    "        std.append(features.std().item())\n",
    "    \n",
    "    return mean, std"
   ]
  },
  {
   "cell_type": "code",
   "execution_count": 116,
   "metadata": {},
   "outputs": [],
   "source": [
    "train_subject = [line.strip() for line in codecs.open(osp.join(MRS_path, 'train_subjects'), 'r').readlines()]\n",
    "train_mean, train_std = mean_and_std_for_subjects(train_subject, scale)\n",
    "test_subjects = [line.strip() for line in codecs.open(osp.join(MRS_path, 'test_subjects'), 'r').readlines()]\n",
    "test_mean, test_std = mean_and_std_for_subjects(test_subjects, scale)"
   ]
  },
  {
   "cell_type": "code",
   "execution_count": 117,
   "metadata": {},
   "outputs": [
    {
     "name": "stdout",
     "output_type": "stream",
     "text": [
      "[2092.202880859375, 1467.216796875, 4256.30322265625, 2.5251529216766357, 0.7080460786819458, 0.13764184713363647, 0.03913106396794319]\n",
      "[983.1158447265625, 670.9742431640625, 1944.073974609375, 0.3271346986293793, 0.11803543567657471, 0.018789958208799362, 0.01337816659361124]\n",
      "[2085.7890625, 1468.462890625, 4397.27490234375, 2.5623159408569336, 0.696068286895752, 0.13728415966033936, 0.03779979050159454]\n",
      "[872.685546875, 609.8560791015625, 1902.5167236328125, 0.3120511472225189, 0.1075952872633934, 0.018359433859586716, 0.012635496445000172]\n"
     ]
    }
   ],
   "source": [
    "print(train_mean)\n",
    "print(train_std)\n",
    "print(test_mean)\n",
    "print(test_std)"
   ]
  },
  {
   "cell_type": "markdown",
   "metadata": {},
   "source": [
    "# Set missing data (Subcortical) to mean value for train/test"
   ]
  },
  {
   "cell_type": "code",
   "execution_count": 118,
   "metadata": {},
   "outputs": [],
   "source": [
    "def read_graph_by_subject(G_path, subject, scale):\n",
    "    subject_G_path = osp.join(G_path, 'subj{0}.scale{1}.json'.format(subject, scale))\n",
    "    G = nx.node_link_graph(json.load(codecs.open(subject_G_path, 'r')))\n",
    "    return G"
   ]
  },
  {
   "cell_type": "code",
   "execution_count": 119,
   "metadata": {},
   "outputs": [],
   "source": [
    "def _set_missing_data(G, mean):\n",
    "    \"\"\"\n",
    "    Args: \n",
    "        mean: list of tensor\n",
    "    \"\"\"\n",
    "    for node in G.nodes:\n",
    "        if G.nodes[node]['StructName'] == 'SubCortical':\n",
    "            for i, (k, v) in enumerate(G.nodes[node].items()):\n",
    "                if k not in ['StructName', 'TimeSeries']: # Skip TimeSeries\n",
    "                    G.nodes[node][k] = mean[i]"
   ]
  },
  {
   "cell_type": "code",
   "execution_count": 120,
   "metadata": {},
   "outputs": [],
   "source": [
    "def set_missing_data(subject_list, G_path, scale, mean):\n",
    "    for subject in subject_list:\n",
    "        subject_G_path = osp.join(G_path, 'subj{0}.scale{1}.json'.format(subject, scale))\n",
    "        G = nx.node_link_graph(json.load(codecs.open(subject_G_path, 'r')))\n",
    "        _set_missing_data(G, mean)\n",
    "        json_graph = nx.node_link_data(G)\n",
    "        json.dump(json_graph, codecs.open(subject_G_path, 'w', encoding='utf-8'), separators=(',', ':'),\n",
    "                 indent=4)"
   ]
  },
  {
   "cell_type": "code",
   "execution_count": 121,
   "metadata": {},
   "outputs": [],
   "source": [
    "set_missing_data(train_subject, G_path, scale, train_mean)\n",
    "set_missing_data(val_subject, G_path, scale, val_mean)"
   ]
  },
  {
   "cell_type": "markdown",
   "metadata": {},
   "source": [
    "# Plot node features distrubution\n"
   ]
  },
  {
   "cell_type": "code",
   "execution_count": 122,
   "metadata": {},
   "outputs": [],
   "source": [
    "def plot_node_feature(subjects):\n",
    "    datas = [subj_to_data(G_path, s, scale) for s in subjects]\n",
    "    datas = [data.x for data in datas]\n",
    "    datas = torch.stack(datas)\n",
    "    for i in range(0, 7): # 7 features without timeseries\n",
    "        all_features = datas[:, :, i]\n",
    "        plt.hist(all_features)\n",
    "        plt.show()"
   ]
  },
  {
   "cell_type": "code",
   "execution_count": 123,
   "metadata": {},
   "outputs": [
    {
     "data": {
      "image/png": "[encoded data removed]",
      "text/plain": [
       "<Figure size 432x288 with 1 Axes>"
      ]
     },
     "metadata": {
      "needs_background": "light"
     },
     "output_type": "display_data"
    },
    {
     "data": {
      "image/png": "[encoded data removed]",
      "text/plain": [
       "<Figure size 432x288 with 1 Axes>"
      ]
     },
     "metadata": {
      "needs_background": "light"
     },
     "output_type": "display_data"
    },
    {
     "data": {
      "image/png": "[encoded data removed]",
      "text/plain": [
       "<Figure size 432x288 with 1 Axes>"
      ]
     },
     "metadata": {
      "needs_background": "light"
     },
     "output_type": "display_data"
    },
    {
     "data": {
      "image/png": "[encoded data removed]",
      "text/plain": [
       "<Figure size 432x288 with 1 Axes>"
      ]
     },
     "metadata": {
      "needs_background": "light"
     },
     "output_type": "display_data"
    },
    {
     "data": {
      "image/png": "[encoded data removed]",
      "text/plain": [
       "<Figure size 432x288 with 1 Axes>"
      ]
     },
     "metadata": {
      "needs_background": "light"
     },
     "output_type": "display_data"
    },
    {
     "data": {
      "image/png": "[encoded data removed]",
      "text/plain": [
       "<Figure size 432x288 with 1 Axes>"
      ]
     },
     "metadata": {
      "needs_background": "light"
     },
     "output_type": "display_data"
    },
    {
     "data": {
      "image/png": "[encoded data removed]",
      "text/plain": [
       "<Figure size 432x288 with 1 Axes>"
      ]
     },
     "metadata": {
      "needs_background": "light"
     },
     "output_type": "display_data"
    }
   ],
   "source": [
    "plot_node_feature(val_subject)"
   ]
  },
  {
   "cell_type": "code",
   "execution_count": 124,
   "metadata": {},
   "outputs": [
    {
     "data": {
      "image/png": "[encoded data removed]",
      "text/plain": [
       "<Figure size 432x288 with 1 Axes>"
      ]
     },
     "metadata": {
      "needs_background": "light"
     },
     "output_type": "display_data"
    },
    {
     "data": {
      "image/png": "[encoded data removed]",
      "text/plain": [
       "<Figure size 432x288 with 1 Axes>"
      ]
     },
     "metadata": {
      "needs_background": "light"
     },
     "output_type": "display_data"
    },
    {
     "data": {
      "image/png": "[encoded data removed]",
      "text/plain": [
       "<Figure size 432x288 with 1 Axes>"
      ]
     },
     "metadata": {
      "needs_background": "light"
     },
     "output_type": "display_data"
    },
    {
     "data": {
      "image/png": "[encoded data removed]",
      "text/plain": [
       "<Figure size 432x288 with 1 Axes>"
      ]
     },
     "metadata": {
      "needs_background": "light"
     },
     "output_type": "display_data"
    },
    {
     "data": {
      "image/png": "[encoded data removed]",
      "text/plain": [
       "<Figure size 432x288 with 1 Axes>"
      ]
     },
     "metadata": {
      "needs_background": "light"
     },
     "output_type": "display_data"
    },
    {
     "data": {
      "image/png": "[encoded data removed]",
      "text/plain": [
       "<Figure size 432x288 with 1 Axes>"
      ]
     },
     "metadata": {
      "needs_background": "light"
     },
     "output_type": "display_data"
    },
    {
     "data": {
      "image/png": "[encoded data removed]",
      "text/plain": [
       "<Figure size 432x288 with 1 Axes>"
      ]
     },
     "metadata": {
      "needs_background": "light"
     },
     "output_type": "display_data"
    }
   ],
   "source": [
    "plot_node_feature(train_subject)"
   ]
  },
  {
   "cell_type": "code",
   "execution_count": null,
   "metadata": {},
   "outputs": [],
   "source": []
  }
 ],
 "metadata": {
  "kernelspec": {
   "display_name": "Python 3",
   "language": "python",
   "name": "python3"
  },
  "language_info": {
   "codemirror_mode": {
    "name": "ipython",
    "version": 3
   },
   "file_extension": ".py",
   "mimetype": "text/x-python",
   "name": "python",
   "nbconvert_exporter": "python",
   "pygments_lexer": "ipython3",
   "version": "3.7.2"
  }
 },
 "nbformat": 4,
 "nbformat_minor": 2
}
